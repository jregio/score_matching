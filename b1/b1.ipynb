{
 "cells": [
  {
   "cell_type": "code",
   "execution_count": 2,
   "metadata": {},
   "outputs": [],
   "source": [
    "from matplotlib import pyplot as plt\n",
    "import torch"
   ]
  },
  {
   "cell_type": "code",
   "execution_count": 25,
   "metadata": {},
   "outputs": [],
   "source": [
    "import sys\n",
    "import os\n",
    "\n",
    "sys.path.append('../distribution.py')\n",
    "\n",
    "from distribution import Distribution"
   ]
  },
  {
   "cell_type": "code",
   "execution_count": 26,
   "metadata": {},
   "outputs": [],
   "source": [
    "def plot_mode(distribution, mode):\n",
    "    x = torch.linspace(-5, 5, steps=1000)\n",
    "    y = distribution.map(mode, x)\n",
    "    plt.xlabel('x')\n",
    "    plt.ylabel(mode)\n",
    "    plt.plot(x, y)\n",
    "    plt.savefig(str.format('{dist}_{mode}.png', dist=distribution.name, mode=mode))\n",
    "    plt.close()"
   ]
  },
  {
   "cell_type": "code",
   "execution_count": 27,
   "metadata": {},
   "outputs": [],
   "source": [
    "p1 = Distribution('p1', [1], [0], [1])\n",
    "p2 = Distribution('p2', [1/3, 2/3], [-2.5, 2.5], [0.5, 0.5])"
   ]
  },
  {
   "cell_type": "code",
   "execution_count": 28,
   "metadata": {},
   "outputs": [],
   "source": [
    "plot_mode(p1, 'prob')\n",
    "plot_mode(p1, 'logprob')\n",
    "plot_mode(p1, 'score')"
   ]
  },
  {
   "cell_type": "code",
   "execution_count": 29,
   "metadata": {},
   "outputs": [],
   "source": [
    "plot_mode(p2, 'prob')\n",
    "plot_mode(p2, 'logprob')\n",
    "plot_mode(p2, 'score')"
   ]
  },
  {
   "cell_type": "code",
   "execution_count": null,
   "metadata": {},
   "outputs": [],
   "source": []
  }
 ],
 "metadata": {
  "kernelspec": {
   "display_name": "Python 3",
   "language": "python",
   "name": "python3"
  },
  "language_info": {
   "codemirror_mode": {
    "name": "ipython",
    "version": 3
   },
   "file_extension": ".py",
   "mimetype": "text/x-python",
   "name": "python",
   "nbconvert_exporter": "python",
   "pygments_lexer": "ipython3",
   "version": "3.9.10"
  }
 },
 "nbformat": 4,
 "nbformat_minor": 2
}
